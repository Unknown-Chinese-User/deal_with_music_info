{
 "cells": [
  {
   "cell_type": "code",
   "execution_count": 30,
   "id": "a4da727d",
   "metadata": {},
   "outputs": [],
   "source": [
    "import glob,os,subprocess,json,re\n",
    "import numpy as np"
   ]
  },
  {
   "cell_type": "code",
   "execution_count": 2,
   "id": "b4d2da9b",
   "metadata": {},
   "outputs": [
    {
     "data": {
      "text/plain": [
       "'e:\\\\jupyter'"
      ]
     },
     "execution_count": 2,
     "metadata": {},
     "output_type": "execute_result"
    }
   ],
   "source": [
    "%pwd"
   ]
  },
  {
   "cell_type": "code",
   "execution_count": 52,
   "id": "46dfe67b",
   "metadata": {},
   "outputs": [
    {
     "name": "stdout",
     "output_type": "stream",
     "text": [
      "E:\\music+zip\\song\\大沾板BESTSELLER-WAV@dwdwweii\n"
     ]
    }
   ],
   "source": [
    "%cd E:\\music+zip\\song\\大沾板BESTSELLER-WAV@dwdwweii\n",
    "# 切换到flac或cue所在的文件夹"
   ]
  },
  {
   "cell_type": "code",
   "execution_count": 4,
   "id": "7f8e931b",
   "metadata": {},
   "outputs": [
    {
     "name": "stdout",
     "output_type": "stream",
     "text": [
      "['Artwork', 'Back.jpg', 'CD.jpg', 'Extra', 'Front.jpg', 'Various Artists - Bestseller Classic No.1 - 副本.cue', 'Various Artists - Bestseller Classic No.1.cue', 'Various Artists - Bestseller Classic No.1.wav']\n"
     ]
    }
   ],
   "source": [
    "f=os.listdir()\n",
    "print(f)\n",
    "# 确认列表内文件无误"
   ]
  },
  {
   "cell_type": "markdown",
   "id": "3653f0e9",
   "metadata": {},
   "source": [
    "#### 以下是如何读取全是flac的文件夹（前提是mediainfo能读取出各种信息）"
   ]
  },
  {
   "cell_type": "code",
   "execution_count": null,
   "id": "88afecb2",
   "metadata": {},
   "outputs": [
    {
     "name": "stdout",
     "output_type": "stream",
     "text": [
      ".\\[2019.12.25] 物語シリーズ｜UTAMONOGATARI -DISK 1-\\01. staple staple.flac\n",
      ".\\[2019.12.25] 物語シリーズ｜UTAMONOGATARI -DISK 1-\\02. 帰り道.flac\n",
      ".\\[2019.12.25] 物語シリーズ｜UTAMONOGATARI -DISK 1-\\03. ambivalent world.flac\n",
      ".\\[2019.12.25] 物語シリーズ｜UTAMONOGATARI -DISK 1-\\04. 恋愛サーキュレーション.flac\n",
      ".\\[2019.12.25] 物語シリーズ｜UTAMONOGATARI -DISK 1-\\05. sugar sweet nightmare.flac\n",
      ".\\[2019.12.25] 物語シリーズ｜UTAMONOGATARI -DISK 1-\\06. 君の知らない物語.flac\n",
      ".\\[2019.12.25] 物語シリーズ｜UTAMONOGATARI -DISK 1-\\07. 二言目.flac\n",
      ".\\[2019.12.25] 物語シリーズ｜UTAMONOGATARI -DISK 1-\\08. marshmallow justice.flac\n",
      ".\\[2019.12.25] 物語シリーズ｜UTAMONOGATARI -DISK 2-\\01. 白金ディスコ.flac\n",
      ".\\[2019.12.25] 物語シリーズ｜UTAMONOGATARI -DISK 2-\\02. ナイショの話.flac\n",
      ".\\[2019.12.25] 物語シリーズ｜UTAMONOGATARI -DISK 2-\\03. perfect slumbers.flac\n",
      ".\\[2019.12.25] 物語シリーズ｜UTAMONOGATARI -DISK 2-\\04. 消えるdaydream.flac\n",
      ".\\[2019.12.25] 物語シリーズ｜UTAMONOGATARI -DISK 2-\\05. chocolate insomnia.flac\n",
      ".\\[2019.12.25] 物語シリーズ｜UTAMONOGATARI -DISK 2-\\06. happy bite.flac\n",
      ".\\[2019.12.25] 物語シリーズ｜UTAMONOGATARI -DISK 2-\\07. アイヲウタエ.flac\n",
      ".\\[2019.12.25] 物語シリーズ｜UTAMONOGATARI -DISK 2-\\08. the last day of my adolescence.flac\n",
      ".\\[2019.12.25] 物語シリーズ｜UTAMONOGATARI -DISK 3-\\01. 花痕 -shirushi-.flac\n",
      ".\\[2019.12.25] 物語シリーズ｜UTAMONOGATARI -DISK 3-\\02. もうそう♥えくすぷれす.flac\n",
      ".\\[2019.12.25] 物語シリーズ｜UTAMONOGATARI -DISK 3-\\03. white lies.flac\n",
      ".\\[2019.12.25] 物語シリーズ｜UTAMONOGATARI -DISK 3-\\04. その声を覚えてる.flac\n",
      ".\\[2019.12.25] 物語シリーズ｜UTAMONOGATARI -DISK 3-\\05. fast love.flac\n",
      ".\\[2019.12.25] 物語シリーズ｜UTAMONOGATARI -DISK 3-\\06. 木枯らしセンティメント.flac\n",
      ".\\[2019.12.25] 物語シリーズ｜UTAMONOGATARI -DISK 3-\\07. snowdrop.flac\n",
      ".\\[2019.12.25] 物語シリーズ｜UTAMONOGATARI -DISK 4-\\01. オレンジミント.flac\n",
      ".\\[2019.12.25] 物語シリーズ｜UTAMONOGATARI -DISK 4-\\02. border.flac\n",
      ".\\[2019.12.25] 物語シリーズ｜UTAMONOGATARI -DISK 4-\\03. decent black.flac\n",
      ".\\[2019.12.25] 物語シリーズ｜UTAMONOGATARI -DISK 4-\\04. mathemagics.flac\n",
      ".\\[2019.12.25] 物語シリーズ｜UTAMONOGATARI -DISK 4-\\05. 夕立方程式.flac\n",
      ".\\[2019.12.25] 物語シリーズ｜UTAMONOGATARI -DISK 4-\\06. mein schatz.flac\n",
      ".\\[2019.12.25] 物語シリーズ｜UTAMONOGATARI -DISK 4-\\07. さよならのゆくえ.flac\n",
      ".\\[2019.12.25] 物語シリーズ｜UTAMONOGATARI -DISK 4-\\08. terminal terminal.flac\n",
      ".\\[2019.12.25] 物語シリーズ｜UTAMONOGATARI -DISK 4-\\09. dreamy date drive.flac\n",
      ".\\[2019.12.25] 物語シリーズ｜UTAMONOGATARI -DISK 5-\\01. dark cherry mystery.flac\n",
      ".\\[2019.12.25] 物語シリーズ｜UTAMONOGATARI -DISK 5-\\02. SHIORI.flac\n",
      ".\\[2019.12.25] 物語シリーズ｜UTAMONOGATARI -DISK 5-\\03. 07734.flac\n",
      ".\\[2019.12.25] 物語シリーズ｜UTAMONOGATARI -DISK 5-\\04. azure.flac\n",
      ".\\[2019.12.25] 物語シリーズ｜UTAMONOGATARI -DISK 5-\\05. whiz.flac\n",
      ".\\[2019.12.25] 物語シリーズ｜UTAMONOGATARI -DISK 5-\\06. étoile et toi.flac\n",
      ".\\[2019.12.25] 物語シリーズ｜UTAMONOGATARI -DISK 5-\\07. étoile et toi [edition le blanc].flac\n",
      ".\\[2019.12.25] 物語シリーズ｜UTAMONOGATARI -DISK 5-\\08. wicked prince.flac\n"
     ]
    }
   ],
   "source": [
    "import glob\n",
    "# All files and directories ending with .txt and that don't begin with a dot:\n",
    "flac=glob.glob(\"./**/*.flac\")\n",
    "for i in flac:\n",
    "    print(i)\n"
   ]
  },
  {
   "cell_type": "code",
   "execution_count": 40,
   "id": "5efa7245",
   "metadata": {},
   "outputs": [
    {
     "name": "stdout",
     "output_type": "stream",
     "text": [
      "\n",
      "Disc 1:\n",
      "1.staple staple - 斎藤千和(4:35)\n",
      "2.帰り道 - 加藤英美里(4:07)\n",
      "3.ambivalent world - 沢城みゆき(4:17)\n",
      "4.恋愛サーキュレーション - 花澤香菜(4:15)\n",
      "5.sugar sweet nightmare - 堀江由衣(4:31)\n",
      "6.君の知らない物語 - supercell(5:44)\n",
      "7.二言目 - 斎藤千和(4:26)\n",
      "8.marshmallow justice - 喜多村英梨(4:15)\n",
      "\n",
      "Disc 2:\n",
      "1.白金ディスコ - 井口裕香(4:17)\n",
      "2.ナイショの話 - ClariS(4:21)\n",
      "3.perfect slumbers - 堀江由衣(4:28)\n",
      "4.消えるdaydream - 河野マリナ(4:38)\n",
      "5.chocolate insomnia - 堀江由衣(4:39)\n",
      "6.happy bite - 加藤英美里(4:12)\n",
      "7.アイヲウタエ - 春奈るな(4:13)\n",
      "8.the last day of my adolescence - 沢城みゆき(4:24)\n",
      "\n",
      "Disc 3:\n",
      "1.花痕 -shirushi- - 河野マリナ(4:33)\n",
      "2.もうそう♥えくすぷれす - 花澤香菜(4:24)\n",
      "3.white lies - 歌物語(3:25)\n",
      "4.その声を覚えてる - 河野マリナ(4:10)\n",
      "5.fast love - 斎藤千和(4:36)\n",
      "6.木枯らしセンティメント - 斎藤千和、三木眞一郎(4:37)\n",
      "7.snowdrop - 春奈るな、河野マリナ(5:09)\n",
      "\n",
      "Disc 4:\n",
      "1.オレンジミント - 早見沙織(4:34)\n",
      "2.border - ClariS(4:26)\n",
      "3.decent black - 水橋かおり(4:39)\n",
      "4.mathemagics - 井上麻里奈(4:04)\n",
      "5.夕立方程式 - 井上麻里奈(4:41)\n",
      "6.mein schatz - ミト(4:04)\n",
      "7.さよならのゆくえ - 瀧川ありさ(3:58)\n",
      "8.terminal terminal - 加藤英美里(4:29)\n",
      "9.dreamy date drive - 斎藤千和(4:42)\n",
      "\n",
      "Disc 5:\n",
      "1.dark cherry mystery - 水橋かおり(3:51)\n",
      "2.SHIORI - ClariS(4:11)\n",
      "3.07734 - 神前暁、ミト(3:46)\n",
      "4.azure - TrySail(4:27)\n",
      "5.whiz - TrySail(4:27)\n",
      "6.étoile et toi - Clémentine(5:53)\n",
      "7.étoile et toi [edition le blanc] - Clémentine & Ainhoa(5:58)\n",
      "8.wicked prince - princess à la mode(3:57)\n"
     ]
    }
   ],
   "source": [
    "import audio_metadata\n",
    "\n",
    "# metadata = audio_metadata.load(flac[0])\n",
    "# # print(metadata)\n",
    "# print(metadata['tags']['title'][0]+\" - \"+metadata['tags']['artist'][0])\n",
    "disc_num_cur=0\n",
    "for i in flac:\n",
    "    metadata = audio_metadata.load(i)\n",
    "    disc_num=int(metadata['tags']['discnumber'][0][0])\n",
    "    if disc_num>disc_num_cur:\n",
    "        disc_num_cur=disc_num\n",
    "        print(\"\\nDisc \"+str(disc_num)+\":\")\n",
    "\n",
    "    dur=metadata['streaminfo'].duration\n",
    "    print(metadata['tags']['tracknumber'][0]+\".\"+metadata['tags']['title'][0]+\" - \"+metadata['tags']['artist'][0]+\"({min}:{sec:0>2d})\".format(min=round(dur//60),sec=round(dur%60)))\n",
    "\n",
    "# print(json.dumps(parsed, indent=4, sort_keys=True))"
   ]
  },
  {
   "cell_type": "markdown",
   "id": "7bab8733",
   "metadata": {},
   "source": [
    "#### 如何读取cue文件(前提是cue文件里面分段正确)\n",
    "\n",
    "此段得到的每段音频全长和foobar2k有出入，但是最多差1s，不影响"
   ]
  },
  {
   "cell_type": "code",
   "execution_count": 4,
   "id": "124539d2",
   "metadata": {},
   "outputs": [
    {
     "name": "stdout",
     "output_type": "stream",
     "text": [
      "Various Artists - Bestseller Classic No.1 - 副本.cue\n"
     ]
    }
   ],
   "source": [
    "f=os.listdir()\n",
    "cue=\"\"\n",
    "for i in f:\n",
    "    if i.split(\".\")[-1]==\"cue\":\n",
    "        cue=i\n",
    "        break\n",
    "print(cue)"
   ]
  },
  {
   "cell_type": "code",
   "execution_count": 7,
   "id": "7e81c2c8",
   "metadata": {},
   "outputs": [
    {
     "name": "stdout",
     "output_type": "stream",
     "text": [
      "REM GENRE Classical\n",
      "REM DATE 2007\n",
      "REM DISCID 9009E60B\n",
      "REM COMMENT \"ExactAudioCopy v1.0b3\"\n",
      "CATALOG 0000000000000\n",
      "PERFORMER \"Various Artists\"\n",
      "TITLE \"Bestseller Classic No.1\"\n",
      "FILE \"Various Artists - Bestseller Classic No.1.wav\" WAVE\n",
      "  TRACK 01 AUDIO\n",
      "    TITLE \"Alla turca\"\n",
      "    PERFORMER \"K. Havlikova\"\n",
      "    INDEX 01 00:00:00\n",
      "  TRACK 02 AUDIO\n",
      "    TITLE \"For Elise\"\n",
      "    PERFORMER \"K. Havlikova\"\n",
      "    INDEX 00 03:17:13\n",
      "    INDEX 01 03:19:67\n",
      "  TRACK 03 AUDIO\n",
      "    TITLE \"Menuet In D major\"\n",
      "    PERFORMER \"J. Salay, A. Holblingova\"\n",
      "    INDEX 00 06:15:63\n",
      "    INDEX 01 06:18:37\n",
      "  TRACK 04 AUDIO\n",
      "    TITLE \"Waltz F sharp minor, op. 64\"\n",
      "    PERFORMER \"S. Zamborsky\"\n",
      "    INDEX 00 10:33:53\n",
      "    INDEX 01 10:36:27\n",
      "  TRACK 05 AUDIO\n",
      "    TITLE \"Etude E flat minor\"\n",
      "    PERFORMER \"S. Zamborsky\"\n",
      "    INDEX 00 14:18:63\n",
      "    INDEX 01 14:21:37\n",
      "  TRACK 06 AUDIO\n",
      "    TITLE \"Hungarian Dance\"\n",
      "    PERFORMER \"Q. Holbling, J. Salay\"\n",
      "    INDEX 00 19:24:23\n",
      "    INDEX 01 19:26:72\n",
      "  TRACK 07 AUDIO\n",
      "    TITLE \"Ave Maria\"\n",
      "    PERFORMER \"Q. Holbling, J. Zsapka\"\n",
      "    INDEX 00 21:43:58\n",
      "    INDEX 01 21:46:32\n",
      "  TRACK 08 AUDIO\n",
      "    TITLE \"Serenade\"\n",
      "    PERFORMER \"The Slovak Chamber Orchestra\"\n",
      "    INDEX 00 24:40:11\n",
      "    INDEX 01 24:42:60\n",
      "  TRACK 09 AUDIO\n",
      "    TITLE \"Dreaming\"\n",
      "    PERFORMER \"The Slovak Chamber Orchestra\"\n",
      "    INDEX 00 29:07:01\n",
      "    INDEX 01 29:09:52\n",
      "  TRACK 10 AUDIO\n",
      "    TITLE \"Humoresque G flat major\"\n",
      "    PERFORMER \"The Slovak Chamber Orchestra\"\n",
      "    INDEX 00 32:50:38\n",
      "    INDEX 01 32:53:12\n",
      "  TRACK 11 AUDIO\n",
      "    TITLE \"Valse triste\"\n",
      "    PERFORMER \"The Slovak Phiharmonic Orchestra\"\n",
      "    INDEX 00 37:20:26\n",
      "    INDEX 01 37:23:00\n",
      "\n"
     ]
    }
   ],
   "source": [
    "f=open(cue)\n",
    "f_str=\"\"\n",
    "for line in f:\n",
    "    f_str+=line\n",
    "print(f_str)\n",
    "f.close()"
   ]
  },
  {
   "cell_type": "code",
   "execution_count": 46,
   "id": "7651bcbf",
   "metadata": {},
   "outputs": [
    {
     "name": "stdout",
     "output_type": "stream",
     "text": [
      "2534.3333333333335\n",
      "(42:14)\n"
     ]
    }
   ],
   "source": [
    "import audio_metadata\n",
    "\n",
    "# wav_re=r'FILE \"(?P<wav>.*?)\" WAVE'\n",
    "wav_re=r'FILE \"(?P<wav>.*?)\" WAVE'\n",
    "matches=re.search(wav_re, f_str, flags=re.S|re.MULTILINE)\n",
    "wav=matches.group(\"wav\")\n",
    "\n",
    "metadata = audio_metadata.load(wav)\n",
    "# print(metadata)\n",
    "total_dur=metadata['streaminfo'].duration\n",
    "print(total_dur)\n",
    "\n",
    "print(\"({min}:{sec:0>2d})\".format(min=round(total_dur//60),sec=round(total_dur%60)))\n",
    "\n"
   ]
  },
  {
   "cell_type": "code",
   "execution_count": 51,
   "id": "b9ee36e9",
   "metadata": {},
   "outputs": [
    {
     "name": "stdout",
     "output_type": "stream",
     "text": [
      "(0:00)\n",
      "01.Alla turca - K. Havlikova(3:20)\n",
      "02.For Elise - K. Havlikova(2:59)\n",
      "03.Menuet In D major - J. Salay, A. Holblingova(4:18)\n",
      "04.Waltz F sharp minor, op. 64 - S. Zamborsky(3:45)\n",
      "05.Etude E flat minor - S. Zamborsky(5:05)\n",
      "06.Hungarian Dance - Q. Holbling, J. Salay(2:20)\n",
      "07.Ave Maria - Q. Holbling, J. Zsapka(2:56)\n",
      "08.Serenade - The Slovak Chamber Orchestra(4:27)\n",
      "09.Dreaming - The Slovak Chamber Orchestra(3:44)\n",
      "10.Humoresque G flat major - The Slovak Chamber Orchestra(4:30)\n",
      "11.Valse triste - The Slovak Phiharmonic Orchestra(4:51)\n"
     ]
    }
   ],
   "source": [
    "\n",
    "regu=r'''TRACK (?P<track>\\d*?) AUDIO\n",
    "    TITLE \"(?P<title>.*?)\"\n",
    "    PERFORMER \"(?P<performer>.*?)\"\n",
    ".*? INDEX 01 (?P<min>\\d*):(?P<sec>\\d*):(?P<ms>\\d*)'''\n",
    "\n",
    "# regu=r'TRACK (?P<track>\\d*?) AUDIO'\n",
    "\n",
    "matches=re.finditer(regu, f_str, flags=re.S|re.MULTILINE)\n",
    "\n",
    "last_time=0\n",
    "for match in matches:\n",
    "    meta_dict=match.groupdict()\n",
    "    min=int(meta_dict[\"min\"])\n",
    "    sec=int(meta_dict[\"sec\"])\n",
    "    ms=int(meta_dict[\"ms\"])\n",
    "    cur_time=min*60+sec+ms/100\n",
    "    dur=cur_time-last_time\n",
    "    last_time=cur_time\n",
    "    print(\"({}:{:0>2d})\".format(round(dur//60),round(dur%60)))\n",
    "    \n",
    "    print(\"{}.{} - {}\".format(meta_dict[\"track\"], meta_dict[\"title\"], meta_dict[\"performer\"]), end=\"\")\n",
    "dur=total_dur-last_time\n",
    "print(\"({}:{:0>2d})\".format(round(dur//60),round(dur%60)))"
   ]
  },
  {
   "cell_type": "code",
   "execution_count": null,
   "id": "e3b0477c",
   "metadata": {},
   "outputs": [],
   "source": []
  }
 ],
 "metadata": {
  "kernelspec": {
   "display_name": "Python 3 (ipykernel)",
   "language": "python",
   "name": "python3"
  },
  "language_info": {
   "codemirror_mode": {
    "name": "ipython",
    "version": 3
   },
   "file_extension": ".py",
   "mimetype": "text/x-python",
   "name": "python",
   "nbconvert_exporter": "python",
   "pygments_lexer": "ipython3",
   "version": "3.9.12"
  }
 },
 "nbformat": 4,
 "nbformat_minor": 5
}
